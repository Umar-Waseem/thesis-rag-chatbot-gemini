{
 "cells": [
  {
   "cell_type": "markdown",
   "metadata": {},
   "source": [
    "# RAG Masters Thesis Chatbot"
   ]
  },
  {
   "cell_type": "markdown",
   "metadata": {},
   "source": [
    "i200762\n",
    "\n",
    "Muhammad Umar Waseem"
   ]
  },
  {
   "cell_type": "markdown",
   "metadata": {},
   "source": [
    "## Imports"
   ]
  },
  {
   "cell_type": "code",
   "execution_count": 195,
   "metadata": {},
   "outputs": [],
   "source": [
    "import os\n",
    "import getpass\n",
    "import pickle\n",
    "\n",
    "from langchain_google_genai import ChatGoogleGenerativeAI\n",
    "from langchain_google_genai import GoogleGenerativeAIEmbeddings\n",
    "from langchain.prompts import PromptTemplate\n",
    "from langchain.document_loaders import UnstructuredExcelLoader\n",
    "from langchain.text_splitter import RecursiveCharacterTextSplitter\n",
    "from langchain.vectorstores.faiss import FAISS\n",
    "from langchain.chains.combine_documents import create_stuff_documents_chain\n",
    "from langchain.chains import create_retrieval_chain"
   ]
  },
  {
   "cell_type": "markdown",
   "metadata": {},
   "source": [
    "## Model Setup"
   ]
  },
  {
   "cell_type": "code",
   "execution_count": 176,
   "metadata": {},
   "outputs": [
    {
     "name": "stdout",
     "output_type": "stream",
     "text": [
      "Google API Key already set from env\n"
     ]
    }
   ],
   "source": [
    "if \"GOOGLE_API_KEY\" not in os.environ:\n",
    "    os.environ[\"GOOGLE_API_KEY\"] = getpass.getpass(\"Provide your Google API Key\")\n",
    "else:\n",
    "    print(\"Google API Key already set from env\")"
   ]
  },
  {
   "cell_type": "code",
   "execution_count": 178,
   "metadata": {},
   "outputs": [],
   "source": [
    "llm = ChatGoogleGenerativeAI(model=\"gemini-pro\", google_api_key=os.environ[\"GOOGLE_API_KEY\"])\n",
    "embeddings = GoogleGenerativeAIEmbeddings(model=\"models/embedding-001\")"
   ]
  },
  {
   "cell_type": "markdown",
   "metadata": {},
   "source": [
    "## Data Preprocessing"
   ]
  },
  {
   "cell_type": "code",
   "execution_count": 180,
   "metadata": {},
   "outputs": [],
   "source": [
    "loader = UnstructuredExcelLoader(\"dataset.xlsx\")\n",
    "docs = loader.load()"
   ]
  },
  {
   "cell_type": "code",
   "execution_count": 181,
   "metadata": {},
   "outputs": [],
   "source": [
    "text_splitter = RecursiveCharacterTextSplitter(\n",
    "    chunk_size=1500,\n",
    "    chunk_overlap=500,\n",
    ")\n",
    "\n",
    "documents = text_splitter.split_documents(docs)"
   ]
  },
  {
   "cell_type": "code",
   "execution_count": 182,
   "metadata": {},
   "outputs": [
    {
     "name": "stdout",
     "output_type": "stream",
     "text": [
      "995\n"
     ]
    }
   ],
   "source": [
    "print(len(documents))"
   ]
  },
  {
   "cell_type": "code",
   "execution_count": 219,
   "metadata": {},
   "outputs": [
    {
     "name": "stdout",
     "output_type": "stream",
     "text": [
      "MS Thesis Completed in Spring-2023\n",
      "\n",
      "\n",
      "\n",
      "\n",
      "S. #\n",
      "Thesis Title and Access Link (to PDF Report)\n",
      "Link to the MS Thesis Report\n",
      "Thesis Abstract\n"
     ]
    }
   ],
   "source": [
    "print(documents[0].page_content)"
   ]
  },
  {
   "cell_type": "markdown",
   "metadata": {},
   "source": [
    "## Vector Database"
   ]
  },
  {
   "cell_type": "code",
   "execution_count": 196,
   "metadata": {},
   "outputs": [],
   "source": [
    "vectordb = FAISS.from_documents(documents=documents ,embedding=embeddings)"
   ]
  },
  {
   "cell_type": "code",
   "execution_count": 197,
   "metadata": {},
   "outputs": [],
   "source": [
    "with open(\"vectorstore.pkl\", \"wb\") as f:\n",
    "    pickle.dump(vectordb, f)"
   ]
  },
  {
   "cell_type": "markdown",
   "metadata": {},
   "source": [
    "## Langchain Prompting Utilities"
   ]
  },
  {
   "cell_type": "code",
   "execution_count": 200,
   "metadata": {},
   "outputs": [],
   "source": [
    "with open(\"vectorstore.pkl\", \"rb\") as f:\n",
    "    my_vector_database = pickle.load(f)\n",
    "\n",
    "retriever = my_vector_database.as_retriever(search_kwargs={\"k\": 5})"
   ]
  },
  {
   "cell_type": "code",
   "execution_count": 201,
   "metadata": {},
   "outputs": [
    {
     "name": "stdout",
     "output_type": "stream",
     "text": [
      "input_variables=['context', 'input'] template='\\nYou are a helpful AI assistant.\\nAnswer based on the context provided. \\ncontext: {context}\\ninput: {input}\\nanswer:\\n'\n",
      "\n",
      "Input Variables:  ['context', 'input']\n",
      "\n",
      "Prompt Template:  \n",
      "You are a helpful AI assistant.\n",
      "Answer based on the context provided. \n",
      "context: {context}\n",
      "input: {input}\n",
      "answer:\n",
      "\n"
     ]
    }
   ],
   "source": [
    "template = \"\"\"\n",
    "You are a helpful AI assistant.\n",
    "Answer based on the context provided. \n",
    "context: {context}\n",
    "input: {input}\n",
    "answer:\n",
    "\"\"\"\n",
    "\n",
    "prompt = PromptTemplate.from_template(template)\n",
    "print(prompt)\n",
    "print(\"\\nInput Variables: \", prompt.input_variables)\n",
    "print(\"\\nPrompt Template: \", prompt.template)"
   ]
  },
  {
   "cell_type": "code",
   "execution_count": 202,
   "metadata": {},
   "outputs": [],
   "source": [
    "combine_docs_chain = create_stuff_documents_chain(llm, prompt)\n",
    "retrieval_chain = create_retrieval_chain(retriever, combine_docs_chain)"
   ]
  },
  {
   "cell_type": "markdown",
   "metadata": {},
   "source": [
    "## Get Contextural Answer"
   ]
  },
  {
   "cell_type": "code",
   "execution_count": 221,
   "metadata": {},
   "outputs": [
    {
     "name": "stdout",
     "output_type": "stream",
     "text": [
      "{'input': 'What was Laraib Afzal thesis?', 'context': [Document(page_content='1\\n21I-2191 Laraib Afzal\\\\n\\\\n\\\\n\\\\nProsodic alignment for Automatic dubbing\\\\n\\\\n\\nhttps://drive.google.com/file/d/11nobbbLcTsNzHQHrs5mscGYP1bQ487wM/view?usp=drive_link', metadata={'source': 'dataset.xlsx'}), Document(page_content='24\\nMuhammad Haroon Rasheed\\\\n\\\\nReading Comprehension Question Answering for Urdu\\nhttps://drive.google.com/file/d/1LdXqw8xU96UDp34RghKF4uvQ3DqzxDO1/view?usp=sharing', metadata={'source': 'dataset.xlsx'}), Document(page_content='16\\nAbdul Rafay\\\\n\\\\nParaphrasing of Urdu Paragraphs using Natural Language\\nhttps://drive.google.com/file/d/1KweNaPzR9iupqfjrUz-UEpTpR5mSDaRx/view?usp=sharing', metadata={'source': 'dataset.xlsx'}), Document(page_content='`\\n\\n\\n\\n\\nS. #\\nThesis Title and Access Link (to PDF Report)\\nLink to the MS Thesis Report\\nThesis Abstract', metadata={'source': 'dataset.xlsx'}), Document(page_content='47\\nUsama Khalid\\\\n\\\\nLanguage Model for Roman Urdu Trnsfer Learning\\nhttps://drive.google.com/file/d/16Bj2cBg6NsNOe-T6m4gHvWokjpkYIFvp/view?usp=sharing', metadata={'source': 'dataset.xlsx'})], 'answer': 'Prosodic alignment for Automatic dubbing'}\n",
      "\n",
      "\n",
      "User Query:  What was Laraib Afzal thesis?\n",
      "Model Response:  Prosodic alignment for Automatic dubbing\n"
     ]
    }
   ],
   "source": [
    "query = \"What was Laraib Afzal thesis?\"\n",
    "response = retrieval_chain.invoke({ \"input\": query })\n",
    "\n",
    "print(response)\n",
    "print(\"\\n\\nUser Query: \", query)\n",
    "print(\"Model Response: \", response[\"answer\"])"
   ]
  },
  {
   "cell_type": "code",
   "execution_count": null,
   "metadata": {},
   "outputs": [],
   "source": []
  }
 ],
 "metadata": {
  "kernelspec": {
   "display_name": "virtual",
   "language": "python",
   "name": "python3"
  },
  "language_info": {
   "codemirror_mode": {
    "name": "ipython",
    "version": 3
   },
   "file_extension": ".py",
   "mimetype": "text/x-python",
   "name": "python",
   "nbconvert_exporter": "python",
   "pygments_lexer": "ipython3",
   "version": "3.12.3"
  }
 },
 "nbformat": 4,
 "nbformat_minor": 2
}
